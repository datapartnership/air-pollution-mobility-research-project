{
 "cells": [
  {
   "cell_type": "markdown",
   "metadata": {},
   "source": [
    "## Temp\n",
    "This is a temporary file for NTL data processing."
   ]
  },
  {
   "cell_type": "code",
   "execution_count": null,
   "metadata": {},
   "outputs": [],
   "source": [
    "# # Cancel the comment to install all the packages and libraries needed.\n",
    "# ! pip install rasterio matplotlib rasterstats ipynbname imageio tqdm rasterstats\n",
    "# ! pip install numpy==1.24.4CURR_PATH\n",
    "\n",
    "# Configuration\n",
    "from pathlib import Path\n",
    "import sys\n",
    "\n",
    "CURR_PATH = Path().resolve()            # current file path\n",
    "REPO_PATH = CURR_PATH.parent            # current repository path\n",
    "DATA_PATH = REPO_PATH / \"data\"          # path for saving the data\n",
    "DEMO_PATH = DATA_PATH / \"demo-data\"     # path for demo purpose \n",
    "\n",
    "SRC_PATH = REPO_PATH / \"src\"    # path for other sources\n",
    "sys.path.append(str(SRC_PATH))  # add src to system path to import custom functions\n",
    "\n",
    "# # Import customised scripts\n",
    "from aggregation import*\n",
    "from missingvalue import*\n",
    "from visualization import*\n",
    "from helpercollections import*"
   ]
  },
  {
   "cell_type": "markdown",
   "metadata": {},
   "source": [
    "Clip the raster to interested area."
   ]
  },
  {
   "cell_type": "code",
   "execution_count": null,
   "metadata": {},
   "outputs": [],
   "source": [
    "import rasterio\n",
    "\n",
    "min_lon, max_lon = 43.7, 45.0\n",
    "\n",
    "min_lat, max_lat = 32.7, 33.8\n",
    "\n",
    "city = 'baghdad'\n",
    "baghdad_ntl_tiff = DATA_PATH / \"baghdad-NTL-tiffs\"\n",
    "output_path = DATA_PATH\n",
    "\n",
    "clip_tiff_by_bbox('baghdad', baghdad_ntl_tiff, output_path,\n",
    "                      min_lon, min_lat, max_lon, max_lat,)"
   ]
  },
  {
   "cell_type": "code",
   "execution_count": null,
   "metadata": {},
   "outputs": [],
   "source": [
    "city = 'baghdad'\n",
    "baghdad_ntl_clipped = DATA_PATH / \"baghdad-NTL-clipped\"\n",
    "output_path = DATA_PATH\n",
    "\n",
    "fill_ntl_missing_data(\n",
    "    city = 'baghdad',\n",
    "    data_tiff_path = baghdad_ntl_clipped,\n",
    "    output_path = DATA_PATH,\n",
    ")"
   ]
  }
 ],
 "metadata": {
  "kernelspec": {
   "display_name": "Python 3",
   "language": "python",
   "name": "python3"
  },
  "language_info": {
   "codemirror_mode": {
    "name": "ipython",
    "version": 3
   },
   "file_extension": ".py",
   "mimetype": "text/x-python",
   "name": "python",
   "nbconvert_exporter": "python",
   "pygments_lexer": "ipython3",
   "version": "3.11.11"
  }
 },
 "nbformat": 4,
 "nbformat_minor": 2
}
