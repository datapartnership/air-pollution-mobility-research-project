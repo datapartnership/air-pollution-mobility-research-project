{
 "cells": [
  {
   "cell_type": "markdown",
   "id": "43b1d452",
   "metadata": {},
   "source": [
    "# Contributing Factors Analysis"
   ]
  },
  {
   "cell_type": "markdown",
   "id": "48a8b3b8",
   "metadata": {},
   "source": [
    "## README\n",
    "\n",
    "### Overview\n",
    "This notebook analyses various spatial datasets that may contribute to or correlate with nitrogen dioxide (NO₂) pollution levels in Ethiopia (Addis Ababa) and Iraq (Baghdad). It focuses on road infrastructure, points of interest (POIs), and population distribution as potential explanatory variables.\n",
    "\n",
    "### Objective\n",
    "The goal is to examine the spatial distribution of key human and infrastructural factors that may influence or correlate with nitrogen dioxide (NO₂) pollution levels in urban areas.\n",
    "\n",
    "### Workflow\n",
    "\n",
    "1. **Data Acquisition**\n",
    "   - Downloads datasets from multiple sources:\n",
    "     - OpenStreetMap (OSM) for roads, industrial facilities, and POIs for [Ethiopia](https://download.geofabrik.de/africa/ethiopia-latest-free.shp.zip) and [Iraq](https://download.geofabrik.de/asia/iraq-latest-free.shp.zip)\n",
    "     - [WorldPop](https://data.humdata.org/search?q=Spatial+Distribution+of+Population+&ext_search_source=main-nav) for population density\n",
    "     - [NASA Black Marble](https://blackmarble.gsfc.nasa.gov) for night time light\n",
    "     - [Google Earth Engine](https://earthengine.google.com) for cloud cover and surface temperature \n",
    "   - Imports country and city boundary shapefiles for Ethiopia and Iraq.\n",
    "\n",
    "2. **Data Processing**\n",
    "   - Clips all spatial layers to city-level boundaries. \n",
    "   - Aggregates various indicators into uniform mesh grids for spatial comparison.\n",
    "\n",
    "3. **Visualisation**\n",
    "   - Generates static maps of population density and road infrastructure distribution.\n",
    "   - Visualises spatial variation in contributing factors to support exploratory analysis.\n",
    "\n",
    "### Outputs\n",
    "\n",
    "- **Processed Shapefiles**: City-level road, POI, and infrastructure layers.\n",
    "- **Mesh-Based Aggregated Tables**: Feature counts and densities per grid cell.\n",
    "- **Static Visualisations**: Choropleth maps for all contributing factors to aid spatial interpretation.\n",
    "- **Harmonised Datasets**: All outputs aligned spatially and ready for merging with NO₂ concentration data."
   ]
  },
  {
   "cell_type": "markdown",
   "id": "2145afc3",
   "metadata": {},
   "source": [
    "## Init: Prepare Packages and Configuration"
   ]
  },
  {
   "cell_type": "markdown",
   "id": "461b2372",
   "metadata": {},
   "source": [
    "Get current file/repo/data path in local to make sure the following cells run properly."
   ]
  },
  {
   "cell_type": "code",
   "execution_count": 19,
   "id": "e19dde63",
   "metadata": {},
   "outputs": [
    {
     "name": "stderr",
     "output_type": "stream",
     "text": [
      "python(95149) MallocStackLogging: can't turn off malloc stack logging because it was not enabled.\n"
     ]
    },
    {
     "name": "stdout",
     "output_type": "stream",
     "text": [
      "Requirement already satisfied: rasterstats in /opt/anaconda3/lib/python3.12/site-packages (0.20.0)\n",
      "Requirement already satisfied: affine in /opt/anaconda3/lib/python3.12/site-packages (from rasterstats) (2.4.0)\n",
      "Requirement already satisfied: click>7.1 in /opt/anaconda3/lib/python3.12/site-packages (from rasterstats) (8.1.7)\n",
      "Requirement already satisfied: cligj>=0.4 in /opt/anaconda3/lib/python3.12/site-packages (from rasterstats) (0.7.2)\n",
      "Requirement already satisfied: fiona in /opt/anaconda3/lib/python3.12/site-packages (from rasterstats) (1.10.1)\n",
      "Requirement already satisfied: numpy>=1.9 in /opt/anaconda3/lib/python3.12/site-packages (from rasterstats) (1.26.4)\n",
      "Requirement already satisfied: rasterio>=1.0 in /opt/anaconda3/lib/python3.12/site-packages (from rasterstats) (1.4.3)\n",
      "Requirement already satisfied: simplejson in /opt/anaconda3/lib/python3.12/site-packages (from rasterstats) (3.20.1)\n",
      "Requirement already satisfied: shapely in /opt/anaconda3/lib/python3.12/site-packages (from rasterstats) (2.1.0)\n",
      "Requirement already satisfied: attrs in /opt/anaconda3/lib/python3.12/site-packages (from rasterio>=1.0->rasterstats) (23.1.0)\n",
      "Requirement already satisfied: certifi in /opt/anaconda3/lib/python3.12/site-packages (from rasterio>=1.0->rasterstats) (2025.4.26)\n",
      "Requirement already satisfied: click-plugins in /opt/anaconda3/lib/python3.12/site-packages (from rasterio>=1.0->rasterstats) (1.1.1)\n",
      "Requirement already satisfied: pyparsing in /opt/anaconda3/lib/python3.12/site-packages (from rasterio>=1.0->rasterstats) (3.1.2)\n",
      "Note: you may need to restart the kernel to use updated packages.\n"
     ]
    }
   ],
   "source": [
    "# -----------------------------------------------------------------------------\n",
    "# STANDARD PATH INITIALISATION (borrowed from Notebook 1)\n",
    "# -----------------------------------------------------------------------------\n",
    "%pip install rasterstats\n",
    "from pathlib import Path\n",
    "import sys\n",
    "import geopandas as gpd\n",
    "\n",
    "CURR_PATH = Path().resolve()            # current file path\n",
    "REPO_PATH = CURR_PATH.parent            # current repository path\n",
    "DATA_PATH = REPO_PATH / \"data\"          # path for saving the data\n",
    "DEMO_PATH = DATA_PATH / \"demo-data\"     # path for demo purpose \n",
    "\n",
    "SRC_PATH = REPO_PATH / \"src\"    # path for other sources\n",
    "sys.path.append(str(SRC_PATH))  # add src to system path to import custom functions\n",
    "\n",
    "# -----------------------------------------------------------------------------\n",
    "# IMPORT OSM‐ENRICHMENT AND VISUALISATION HELPERS\n",
    "# -----------------------------------------------------------------------------\n",
    "from osmstats import batch_write\n",
    "#from visualization import plot_mesh_static\n",
    "from visualization import plot_mesh\n",
    "\n",
    "# Import customised scripts\n",
    "from aggregation import*\n",
    "from missingvalue import*\n",
    "from visualization import*\n",
    "from osmstats import*\n",
    "from helpercollections import*"
   ]
  },
  {
   "cell_type": "markdown",
   "id": "a2aae48f",
   "metadata": {},
   "source": [
    "## 0 Methodology Data Process Pipeline\n",
    "\n",
    "This chapter processes the contributing factors through the following steps:\n",
    "\n",
    "- **(1) Filling Missing Value**: Spot the missing values in raster and replenish them using iterative checking, using **mean** of the neighbour raster as the replenish value.\n",
    "\n",
    "- **(2) Clipping to Region**: Clipping the data to the interested area, and output the filled raster.\n",
    "\n",
    "- **(3) Aggregation**: Import the generated mesh and aggregate the raster to the mesh level."
   ]
  },
  {
   "cell_type": "markdown",
   "id": "5bbdb62b",
   "metadata": {},
   "source": [
    "## 1 OSM Data"
   ]
  },
  {
   "cell_type": "markdown",
   "id": "9841a103",
   "metadata": {},
   "source": [
    "This chapter is used to enrich spatial mesh grids with OpenStreetMap (OSM) data and visualise selected indicators such as POI density, road length, and land-use area.\n",
    "\n",
    "Note:\n",
    "\n",
    "* A predefined set of eight POI types (e.g., supermarket, hospital) and six land-use classes (e.g., industrial, residential) are used to filter relevant OSM content.\n",
    "\n",
    "* OSM enrichment is performed at the mesh level using a batch processing pipeline, resulting in hundreds of `.gpkg` files for each day.\n",
    "\n",
    "* Static maps are generated to visualise aggregated metrics such as POI share, road length, and industrial land area in square metres.\n",
    "\n",
    "* These outputs provide spatial insight into the built environment and urban function of regions like Addis Ababa.\n"
   ]
  },
  {
   "cell_type": "markdown",
   "id": "915f935a",
   "metadata": {},
   "source": [
    "#### Ethiopia - Addis Ababa"
   ]
  },
  {
   "cell_type": "markdown",
   "id": "088e0c2a",
   "metadata": {},
   "source": [
    "Define static OSM parameters"
   ]
  },
  {
   "cell_type": "code",
   "execution_count": null,
   "id": "2d3c7c7e",
   "metadata": {},
   "outputs": [],
   "source": [
    "# Eight relevant POIs\n",
    "relevant_poi = [\n",
    "    \"supermarket\",\n",
    "    \"hospital\",\n",
    "    \"car_dealership\",\n",
    "    \"car_rental\",\n",
    "    \"car_wash\",\n",
    "    \"marketplace\",\n",
    "    \"mall\",\n",
    "    \"university\"\n",
    "]\n",
    "\n",
    "# Land‐use categories of interest\n",
    "landuse_classes = [\n",
    "    \"industrial\",\n",
    "    \"commercial\",\n",
    "    \"residential\",\n",
    "    \"retail\",\n",
    "    \"farmland\",\n",
    "    \"farmyard\"\n",
    "]"
   ]
  },
  {
   "cell_type": "markdown",
   "id": "ccb85432",
   "metadata": {},
   "source": [
    "Paths for Addis Ababa"
   ]
  },
  {
   "cell_type": "code",
   "execution_count": null,
   "id": "e5b7c951",
   "metadata": {},
   "outputs": [],
   "source": [
    "addis_mesh_in  = DATA_PATH / \"addis-empty-mesh-data\"\n",
    "addis_mesh_out = DATA_PATH / \"addis-OSM-mesh-data\"\n",
    "addis_osm      = DATA_PATH / \"OSM\" / \"ethiopia-latest-free.shp\"\n",
    "ethiopia_pp_path = DATA_PATH / \"Power Plants\" / \"ethiopia_power_fossil.gpkg\""
   ]
  },
  {
   "cell_type": "markdown",
   "id": "92c60c25",
   "metadata": {},
   "source": [
    "Enrich Addis Ababa — writes ~730 files to addis-OSM-mesh-data"
   ]
  },
  {
   "cell_type": "code",
   "execution_count": null,
   "id": "6afd5079",
   "metadata": {},
   "outputs": [],
   "source": [
    "batch_write(\n",
    "    city=\"addis\",\n",
    "    mesh_folder_in=addis_mesh_in,\n",
    "    mesh_folder_out=addis_mesh_out,\n",
    "    osm_shapefile=addis_osm,\n",
    "    relevant_poi=relevant_poi,\n",
    "    landuse_classes=landuse_classes,\n",
    "    fossil_pp_path=ethiopia_pp_path\n",
    ")"
   ]
  },
  {
   "cell_type": "markdown",
   "id": "5c50f3bd",
   "metadata": {},
   "source": [
    "Cell “Plot the 2023-01-01 Demo Mesh for QA”"
   ]
  },
  {
   "cell_type": "code",
   "execution_count": null,
   "id": "e8b1d03f",
   "metadata": {},
   "outputs": [],
   "source": [
    "demo_dir = DATA_PATH / \"demo-data\"\n",
    "#  → “addis-2023-01-01.gpkg” and “baghdad-2023-01-01.gpkg” now exist\n",
    "\n",
    "# ─── Load the single Addis mesh for QA ────────────────────────────────────────\n",
    "gdf_addis = gpd.read_file(demo_dir / \"addis-ababa-2023-01-01.gpkg\")\n",
    "\n",
    "# POI Share\n",
    "plot_mesh(\n",
    "    mesh    = gdf_addis,\n",
    "    feature = \"poi_share\",\n",
    "    title   = \"Addis Ababa – POI Share (2023)\",\n",
    "    figsize = (8, 6),\n",
    "    show    = True,\n",
    "    cmap    = \"viridis\",\n",
    "    show_edges=False\n",
    ")\n",
    "\n",
    "# Industrial Land‐use Area\n",
    "plot_mesh(\n",
    "    mesh    = gdf_addis,\n",
    "    feature = \"lu_industrial_area\",\n",
    "    title   = \"Addis Ababa – Industrial Land‐use Area (m²) (2023)\",\n",
    "    figsize = (8, 6),\n",
    "    show    = True,\n",
    "    cmap    = \"viridis\",\n",
    "    show_edges=False\n",
    ")\n",
    "\n",
    "# ─── NEW: Residential Road Length ───────────────────────────────────────────\n",
    "plot_mesh(\n",
    "    mesh    = gdf_addis,\n",
    "    feature = \"road_residential_len\",\n",
    "    title   = \"Addis Ababa – Residential Road Length (m) (2023)\",\n",
    "    figsize = (8, 6),\n",
    "    show    = True,\n",
    "    cmap    = \"viridis\",\n",
    "    show_edges=False\n",
    ")\n",
    "\n",
    "# ─── NEW: # of Fossil Power Plants per Cell ─────────────────────────────────\n",
    "plot_mesh(\n",
    "    mesh    = gdf_addis,\n",
    "    feature = \"fossil_pp_count\",\n",
    "    title   = \"Addis Ababa – Fossil Power Plants per Cell (2023)\",\n",
    "    figsize = (8, 6),\n",
    "    show    = True,\n",
    "    cmap    = \"viridis\",\n",
    "    show_edges=False\n",
    ")"
   ]
  },
  {
   "cell_type": "markdown",
   "id": "c3565e9e",
   "metadata": {},
   "source": [
    "#### Iraq - Baghdad"
   ]
  },
  {
   "cell_type": "markdown",
   "id": "d28978fc",
   "metadata": {},
   "source": [
    "Paths for Baghdad"
   ]
  },
  {
   "cell_type": "code",
   "execution_count": null,
   "id": "4affdd49",
   "metadata": {},
   "outputs": [],
   "source": [
    "# -----------------------------------------------------------------------------\n",
    "# PATHS FOR BAGHDAD\n",
    "# -----------------------------------------------------------------------------\n",
    "baghdad_mesh_in  = DATA_PATH / \"baghdad-empty-mesh-data\"\n",
    "baghdad_mesh_out = DATA_PATH / \"baghdad-OSM-mesh-data\"\n",
    "baghdad_osm      = DATA_PATH / \"OSM\" / \"iraq-latest-free.shp\"\n",
    "iraq_pp_path     = DATA_PATH / \"Power Plants\" / \"iraq_power_fossil.gpkg\""
   ]
  },
  {
   "cell_type": "markdown",
   "id": "c738182a",
   "metadata": {},
   "source": [
    "Enrich Baghdad — writes ~730 files to baghdad-OSM-mesh-data"
   ]
  },
  {
   "cell_type": "code",
   "execution_count": null,
   "id": "abda8e5d",
   "metadata": {},
   "outputs": [],
   "source": [
    "batch_write(\n",
    "    city=\"baghdad\",\n",
    "    mesh_folder_in=baghdad_mesh_in,\n",
    "    mesh_folder_out=baghdad_mesh_out,\n",
    "    osm_shapefile=baghdad_osm,\n",
    "    relevant_poi=relevant_poi,\n",
    "    landuse_classes=landuse_classes,\n",
    "    fossil_pp_path=iraq_pp_path\n",
    ")"
   ]
  },
  {
   "cell_type": "markdown",
   "id": "63747ff6",
   "metadata": {},
   "source": [
    "Plot demo mesh for 2023 (already written in `data/demo-data`)"
   ]
  },
  {
   "cell_type": "code",
   "execution_count": null,
   "id": "c38cab81",
   "metadata": {},
   "outputs": [],
   "source": [
    "# ─── Load the single Baghdad mesh ────────────────────────────────────────────\n",
    "gdf_bag = gpd.read_file(demo_dir / \"baghdad-2023-01-01.gpkg\")\n",
    "\n",
    "# POI Share\n",
    "plot_mesh(\n",
    "    mesh    = gdf_bag,\n",
    "    feature = \"poi_share\",\n",
    "    title   = \"Baghdad – POI Share (2023)\",\n",
    "    figsize = (8, 6),\n",
    "    show    = True, \n",
    "    cmap    = \"viridis\",\n",
    "    show_edges=False\n",
    ")\n",
    "\n",
    "# Industrial Land‐use Area\n",
    "plot_mesh(\n",
    "    mesh    = gdf_bag,\n",
    "    feature = \"lu_industrial_area\",\n",
    "    title   = \"Baghdad – Industrial Land‐use Area (m²) (2023)\",\n",
    "    figsize = (8, 6),\n",
    "    show    = True, \n",
    "    cmap    = \"viridis\",\n",
    "    show_edges=False\n",
    ")\n",
    "\n",
    "# ─── NEW: Residential Road Length ───────────────────────────────────────────\n",
    "plot_mesh(\n",
    "    mesh    = gdf_bag,\n",
    "    feature = \"road_residential_len\",\n",
    "    title   = \"Baghdad – Residential Road Length (m) (2023)\",\n",
    "    figsize = (8, 6),\n",
    "    show    = True,\n",
    "    cmap    = \"viridis\",\n",
    "    show_edges=False\n",
    ")\n",
    "\n",
    "# ─── NEW: # of Fossil Power Plants per Cell ─────────────────────────────────\n",
    "plot_mesh(\n",
    "    mesh    = gdf_bag,\n",
    "    feature = \"fossil_pp_count\",\n",
    "    title   = \"Baghdad – Fossil Power Plants per Cell (2023)\",\n",
    "    figsize = (8, 6),\n",
    "    show    = True,\n",
    "    cmap    = \"viridis\",\n",
    "    show_edges=False\n",
    ")\n"
   ]
  },
  {
   "cell_type": "markdown",
   "id": "69b55cf9",
   "metadata": {},
   "source": [
    "## 2 Population Data\n",
    "\n",
    "This chapter is used to aggregate and visualise population distribution in different regions using mesh grids.\n",
    "\n",
    "Note:\n",
    "\n",
    "* The population data is aggregated based on predefined hexagonal or square mesh grids using zonal statistics.\n",
    "\n",
    "* Yearly aggregated population values are stored as `.gpkg` files, with one file for each day to support temporal analysis.\n",
    "\n",
    "* Static maps are generated to visualise the spatial distribution of population across the mesh in each year.\n",
    "\n",
    "* The workflow supports comparison across multiple years (e.g., 2023 and 2024), enabling temporal change analysis."
   ]
  },
  {
   "cell_type": "code",
   "execution_count": null,
   "id": "997de268",
   "metadata": {},
   "outputs": [],
   "source": [
    "# ------------------------------------------------------------------------------\n",
    "# INITIALISE MESH PATHS AND READ GPKG LAYERS\n",
    "# ------------------------------------------------------------------------------\n",
    "\n",
    "addis_meshes_path = DATA_PATH / 'addis-mesh-data'       # path to folder storing Addis mesh files\n",
    "baghdad_meshes_path = DATA_PATH / 'baghdad-mesh-data'   # path to folder storing Baghdad mesh files\n",
    "\n",
    "mesh_addis = DATA_PATH / \"mesh-grid\" / \"grid_addis_ababa.gpkg\"     # full path to Addis Ababa mesh grid file\n",
    "mesh_baghdad = DATA_PATH / \"mesh-grid\" / \"grid_baghdad.gpkg\"       # full path to Baghdad mesh grid file\n",
    "\n",
    "lyr_addis_name = fiona.listlayers(mesh_addis)[0]        # extract the only layer name in the Addis GPKG\n",
    "lyr_baghdad_name = fiona.listlayers(mesh_baghdad)[0]    # extract the only layer name in the Baghdad GPKG"
   ]
  },
  {
   "cell_type": "markdown",
   "id": "795ba6e1",
   "metadata": {},
   "source": [
    "#### Ethiopia - Addis Ababa"
   ]
  },
  {
   "cell_type": "code",
   "execution_count": null,
   "id": "b36c4df0",
   "metadata": {},
   "outputs": [],
   "source": [
    "output_root = DATA_PATH / \"eth-pop-gpkg\"          # path for saving the data\n",
    "eth_pop_path = DATA_PATH / 'eth-pop'\n",
    "\n",
    "aggregate_pop_data(\n",
    "    data_tiff_path=eth_pop_path,\n",
    "    mesh_path=mesh_addis,\n",
    "    layer_name=lyr_addis_name,\n",
    "    agg_type=\"sum\",\n",
    "    feature_col=\"pop_sum_m\",\n",
    "    output_path=output_root\n",
    ")"
   ]
  },
  {
   "cell_type": "code",
   "execution_count": null,
   "id": "fd82ae8d",
   "metadata": {},
   "outputs": [],
   "source": [
    "# Filter for .gpkg files that contain \"2023\" in the filename\n",
    "gpkg_files_2023_eth = [f for f in addis_meshes_path.glob(\"*.gpkg\") if \"2023\" in f.name]\n",
    "print(f\"There are {len(gpkg_files_2023_eth)} files from the year 2023.\")\n",
    "\n",
    "# Filter for .gpkg files that contain \"2023\" in the filename\n",
    "gpkg_files_2024_eth = [f for f in addis_meshes_path.glob(\"*.gpkg\") if \"2024\" in f.name]\n",
    "print(f\"There are {len(gpkg_files_2024_eth)} files from the year 2024.\")"
   ]
  },
  {
   "cell_type": "code",
   "execution_count": null,
   "id": "6a627a89",
   "metadata": {},
   "outputs": [],
   "source": [
    "# Input file paths\n",
    "src_2023_eth = DATA_PATH / \"eth-pop-gpkg\" / \"pop_aggregated_2023.gpkg\"\n",
    "src_2024_eth = DATA_PATH / \"eth-pop-gpkg\" / \"pop_aggregated_2024.gpkg\"\n",
    "\n",
    "# Output directory \n",
    "output_path = DATA_PATH\n",
    "\n",
    "# Run for 2023 and 2024\n",
    "generate_daily_files(src_2023_eth, 2023, 365, \"addis-ababa\", output_path)\n",
    "generate_daily_files(src_2024_eth, 2024, 366, \"addis-ababa\", output_path)"
   ]
  },
  {
   "cell_type": "markdown",
   "id": "d7afcf66",
   "metadata": {},
   "source": [
    "**Visualisation**\n",
    "\n",
    "Show aggregated result in 2023 and 2024 for Addis Ababa."
   ]
  },
  {
   "cell_type": "code",
   "execution_count": null,
   "id": "f17f4662",
   "metadata": {},
   "outputs": [],
   "source": [
    "pop_2023_eth = gpd.read_file(DATA_PATH / \"pop-files-addis-ababa\" / \"addis-ababa-2023-02-21.gpkg\")\n",
    "plot_mesh(mesh=pop_2023_eth, feature=\"pop_sum_m\", title=\"Aggregated Sum of Population in Addis Ababa (2023)\", show_edges=False)\n",
    "plt.show()"
   ]
  },
  {
   "cell_type": "code",
   "execution_count": null,
   "id": "980b28a1",
   "metadata": {},
   "outputs": [],
   "source": [
    "pop_2024_eth = gpd.read_file(DATA_PATH / \"pop-files-addis-ababa\" / \"addis-ababa-2024-02-21.gpkg\")\n",
    "plot_mesh(mesh=pop_2024_eth, feature=\"pop_sum_m\", title=\"Aggregated Sum of Population in Addis Ababa (2024)\", show_edges=False)\n",
    "plt.show()"
   ]
  },
  {
   "cell_type": "markdown",
   "id": "b409c3d1",
   "metadata": {},
   "source": [
    "#### Iraq - Baghdad"
   ]
  },
  {
   "cell_type": "code",
   "execution_count": null,
   "id": "02a7c4bc",
   "metadata": {},
   "outputs": [],
   "source": [
    "output_root = DATA_PATH / \"iraq-pop-gpkg\"          # path for saving the data\n",
    "iraq_pop_path = DATA_PATH / 'iraq-pop'\n",
    "\n",
    "aggregate_pop_data(\n",
    "    data_tiff_path=iraq_pop_path,\n",
    "    mesh_path=mesh_baghdad,\n",
    "    layer_name=lyr_baghdad_name,\n",
    "    agg_type=\"sum\",\n",
    "    feature_col=\"pop_sum_m\",\n",
    "    output_path=output_root\n",
    ")"
   ]
  },
  {
   "cell_type": "code",
   "execution_count": null,
   "id": "61f3a2c6",
   "metadata": {},
   "outputs": [],
   "source": [
    "# Filter for .gpkg files that contain \"2023\" in the filename\n",
    "gpkg_files_2023_iraq = [f for f in baghdad_meshes_path.glob(\"*.gpkg\") if \"2023\" in f.name]\n",
    "print(f\"There are {len(gpkg_files_2023_iraq)} files from the year 2023.\")\n",
    "\n",
    "# Filter for .gpkg files that contain \"2023\" in the filename\n",
    "gpkg_files_2024_iraq = [f for f in baghdad_meshes_path.glob(\"*.gpkg\") if \"2024\" in f.name]\n",
    "print(f\"There are {len(gpkg_files_2024_iraq)} files from the year 2024.\")"
   ]
  },
  {
   "cell_type": "code",
   "execution_count": null,
   "id": "df4c5866",
   "metadata": {},
   "outputs": [],
   "source": [
    "# Input file paths\n",
    "src_2023_iraq = DATA_PATH / \"iraq-pop-gpkg\" / \"pop_aggregated_2023.gpkg\"\n",
    "src_2024_iraq = DATA_PATH / \"iraq-pop-gpkg\" / \"pop_aggregated_2024.gpkg\"\n",
    "\n",
    "# Output directory \n",
    "output_path = DATA_PATH \n",
    "\n",
    "# Run for 2023 and 2024\n",
    "generate_daily_files(src_2023_iraq, 2023, 365, \"baghdad\", output_path)\n",
    "generate_daily_files(src_2024_iraq, 2024, 366, \"baghdad\", output_path)"
   ]
  },
  {
   "cell_type": "markdown",
   "id": "d4c0f06a",
   "metadata": {},
   "source": [
    "**Visualisation**\n",
    "\n",
    "Show aggregated result in 2023 and 2024 for Baghdad."
   ]
  },
  {
   "cell_type": "code",
   "execution_count": null,
   "id": "ae92269c",
   "metadata": {},
   "outputs": [],
   "source": [
    "pop_2023_iraq = gpd.read_file(DATA_PATH / \"pop-files-baghdad\" / \"baghdad-2023-02-21.gpkg\")\n",
    "plot_mesh(mesh=pop_2023_iraq, feature=\"pop_sum_m\", title=\"Aggregated Sum of Population in Baghdad (2023)\", show_edges=False)\n",
    "plt.show()"
   ]
  },
  {
   "cell_type": "code",
   "execution_count": null,
   "id": "5ffe9c7d",
   "metadata": {},
   "outputs": [],
   "source": [
    "pop_2024_iraq = gpd.read_file(DATA_PATH / \"pop-files-baghdad\" / \"baghdad-2024-02-21.gpkg\")\n",
    "plot_mesh(mesh=pop_2024_iraq, feature=\"pop_sum_m\", title=\"Aggregated Sum of Population in Baghdad (2024)\", show_edges=False)\n",
    "plt.show()"
   ]
  },
  {
   "cell_type": "markdown",
   "id": "85527d99",
   "metadata": {},
   "source": [
    "**Population Distribution Analysis**\n"
   ]
  },
  {
   "cell_type": "code",
   "execution_count": null,
   "id": "7034399f",
   "metadata": {},
   "outputs": [],
   "source": [
    "import pandas as pd\n",
    "import matplotlib.pyplot as plt"
   ]
  },
  {
   "cell_type": "code",
   "execution_count": null,
   "id": "7c6e48a9",
   "metadata": {},
   "outputs": [],
   "source": [
    "# read files with relative paths\n",
    "addis_2023 = pd.read_parquet(DEMO_PATH / 'addis_ababa_hex_2023_pop.parquet')\n",
    "addis_2024 = pd.read_parquet(DEMO_PATH / 'addis_ababa_hex_2024_pop.parquet')\n",
    "baghdad_2023 = pd.read_parquet(DEMO_PATH / 'baghdad_hex_2023_pop.parquet')\n",
    "baghdad_2024 = pd.read_parquet(DEMO_PATH / 'baghdad_hex_2024_pop.parquet')\n",
    "print(addis_2023.columns)"
   ]
  },
  {
   "cell_type": "code",
   "execution_count": null,
   "id": "3786e29c",
   "metadata": {},
   "outputs": [],
   "source": [
    "# Set the name of the column that contains population values\n",
    "pop_column = 'pop_sum_m'\n",
    "\n",
    "# Create a 2x2 grid of subplots for plotting boxplots of each dataset\n",
    "fig, axes = plt.subplots(2, 2, figsize=(12, 8))\n",
    "\n",
    "# Addis 2023\n",
    "axes[0, 0].hist(addis_2023[pop_column], bins=30, color='skyblue', edgecolor='black')\n",
    "axes[0, 0].set_title('Addis Ababa 2023')\n",
    "axes[0, 0].set_xlabel('Population per Cell')\n",
    "axes[0, 0].set_ylabel('Number of Cells')\n",
    "\n",
    "# Addis 2024\n",
    "axes[0, 1].hist(addis_2024[pop_column], bins=30, color='lightgreen', edgecolor='black')\n",
    "axes[0, 1].set_title('Addis Ababa 2024')\n",
    "axes[0, 1].set_xlabel('Population per Cell')\n",
    "axes[0, 1].set_ylabel('Number of Cells')\n",
    "\n",
    "# Baghdad 2023\n",
    "axes[1, 0].hist(baghdad_2023[pop_column], bins=30, color='salmon', edgecolor='black')\n",
    "axes[1, 0].set_title('Baghdad 2023')\n",
    "axes[1, 0].set_xlabel('Population per Cell')\n",
    "axes[1, 0].set_ylabel('Number of Cells')\n",
    "\n",
    "# Baghdad 2024\n",
    "axes[1, 1].hist(baghdad_2024[pop_column], bins=30, color='plum', edgecolor='black')\n",
    "axes[1, 1].set_title('Baghdad 2024')\n",
    "axes[1, 1].set_xlabel('Population per Cell')\n",
    "axes[1, 1].set_ylabel('Number of Cells')\n",
    "\n",
    "plt.tight_layout()\n",
    "plt.show()\n"
   ]
  },
  {
   "cell_type": "code",
   "execution_count": null,
   "id": "48744b3c",
   "metadata": {},
   "outputs": [],
   "source": [
    "# Prepare data for boxplot\n",
    "data = [\n",
    "    addis_2023[pop_column],\n",
    "    addis_2024[pop_column],\n",
    "    baghdad_2023[pop_column],\n",
    "    baghdad_2024[pop_column]\n",
    "]\n",
    "\n",
    "labels = ['Addis 2023', 'Addis 2024', 'Baghdad 2023', 'Baghdad 2024']\n",
    "\n",
    "# Plot boxplot\n",
    "plt.figure(figsize=(10, 6))\n",
    "plt.boxplot(data, labels=labels, showfliers=True)\n",
    "\n",
    "# Add title and labels\n",
    "plt.title('Population per Cell: Boxplot Comparison')\n",
    "plt.ylabel('Population per Cell')\n",
    "plt.xlabel('City and Year')\n",
    "\n",
    "plt.grid(axis='y', linestyle='--', alpha=0.7)\n",
    "plt.tight_layout()\n",
    "plt.show()"
   ]
  },
  {
   "cell_type": "markdown",
   "id": "1030b897",
   "metadata": {},
   "source": [
    "## 3 Night Time Light"
   ]
  },
  {
   "cell_type": "code",
   "execution_count": null,
   "id": "3f9a8b44",
   "metadata": {
    "tags": [
     "init"
    ]
   },
   "outputs": [],
   "source": [
    "import rasterio\n",
    "from aggregation import*\n",
    "\n",
    "output_path = DATA_PATH\n",
    "addis_meshes_path = DATA_PATH / 'addis-mesh-data'\n",
    "baghdad_meshes_path = DATA_PATH / 'baghdad-mesh-data'\n",
    "\n",
    "mesh_addis = DATA_PATH / \"mesh-grid\" / \"grid_addis_ababa.gpkg\"\n",
    "mesh_baghdad = DATA_PATH / \"mesh-grid\" / \"grid_baghdad.gpkg\"\n",
    "\n",
    "lyr_addis_name = fiona.listlayers(mesh_addis)[0]         # control layer number = 1 \n",
    "lyr_baghdad_name = fiona.listlayers(mesh_baghdad)[0]"
   ]
  },
  {
   "cell_type": "markdown",
   "id": "171aca9e",
   "metadata": {},
   "source": [
    "#### Ethiopia - Addis Ababa"
   ]
  },
  {
   "cell_type": "markdown",
   "id": "b5018bf9",
   "metadata": {},
   "source": [
    "Clip the raster to interested area."
   ]
  },
  {
   "cell_type": "code",
   "execution_count": null,
   "id": "dc585752",
   "metadata": {},
   "outputs": [],
   "source": [
    "min_lon, max_lon = 38.65, 39.05\n",
    "min_lat, max_lat = 8.8, 9.1\n",
    "\n",
    "addis_ntl_tiff = DATA_PATH / \"addis-ababa-NTL-tiffs\"\n",
    "clip_tiff_by_bbox('addis-ababa', addis_ntl_tiff, output_path,\n",
    "                      min_lon, min_lat, max_lon, max_lat,)"
   ]
  },
  {
   "cell_type": "markdown",
   "id": "2129a538",
   "metadata": {},
   "source": [
    "Fill the missing data in the raster."
   ]
  },
  {
   "cell_type": "code",
   "execution_count": null,
   "id": "4a652e6e",
   "metadata": {},
   "outputs": [],
   "source": [
    "addis_ntl_clipped = DATA_PATH / \"addis-ababa-NTL-clipped\"\n",
    "\n",
    "fill_ntl_missing_data(\n",
    "    city = 'addis-ababa',\n",
    "    data_tiff_path = addis_ntl_clipped,\n",
    "    output_path = DATA_PATH,\n",
    ")"
   ]
  },
  {
   "cell_type": "markdown",
   "id": "c26988b2",
   "metadata": {},
   "source": [
    "Generate TIFF Animation"
   ]
  },
  {
   "cell_type": "code",
   "execution_count": null,
   "id": "f0dc48ce",
   "metadata": {},
   "outputs": [],
   "source": [
    "addis_ntl_tif_dir = DATA_PATH / 'addis-ababa-NTL-filled'  \n",
    "tiff_2_gif(addis_ntl_tif_dir, output_path=DATA_PATH, output_name=\"addis-ababa-NTL-animation\", fps = 8)"
   ]
  },
  {
   "cell_type": "markdown",
   "id": "c2856d6e",
   "metadata": {},
   "source": [
    "Aggregate to Mesh"
   ]
  },
  {
   "cell_type": "code",
   "execution_count": null,
   "id": "9eb6d4a1",
   "metadata": {},
   "outputs": [],
   "source": [
    "# Aggregate Ethiopia - Addis Ababa\n",
    "addis_ntl_tif_dir = DATA_PATH / 'baghdad-NTL-filled'  \n",
    "aggregate_data(\n",
    "    data_tiff_path=addis_ntl_tif_dir, \n",
    "    mesh_path=baghdad_meshes_path, \n",
    "    layer_name=lyr_baghdad_name,\n",
    "    feature_name=\"NTL_mean\"\n",
    "    )"
   ]
  },
  {
   "cell_type": "markdown",
   "id": "c6593fef",
   "metadata": {},
   "source": [
    "#### Iraq - Baghdad"
   ]
  },
  {
   "cell_type": "markdown",
   "id": "d74f58b1",
   "metadata": {},
   "source": [
    "Clip the raster to interested area."
   ]
  },
  {
   "cell_type": "code",
   "execution_count": null,
   "id": "ee53b79a",
   "metadata": {
    "tags": [
     "skip"
    ]
   },
   "outputs": [],
   "source": [
    "min_lon, max_lon = 43.7, 45.0\n",
    "min_lat, max_lat = 32.7, 33.8\n",
    "\n",
    "baghdad_ntl_tiff = DATA_PATH / \"baghdad-NTL-tiffs\"\n",
    "clip_tiff_by_bbox('baghdad', baghdad_ntl_tiff, output_path,\n",
    "                      min_lon, min_lat, max_lon, max_lat,)"
   ]
  },
  {
   "cell_type": "markdown",
   "id": "c30f2266",
   "metadata": {},
   "source": [
    "Fill the missing data in the raster."
   ]
  },
  {
   "cell_type": "code",
   "execution_count": null,
   "id": "739e17e3",
   "metadata": {},
   "outputs": [],
   "source": [
    "baghdad_ntl_clipped = DATA_PATH / \"baghdad-NTL-clipped\"\n",
    "\n",
    "fill_ntl_missing_data(\n",
    "    city = 'baghdad',\n",
    "    data_tiff_path = baghdad_ntl_clipped,\n",
    "    output_path = DATA_PATH,\n",
    ")"
   ]
  },
  {
   "cell_type": "markdown",
   "id": "dd5a371b",
   "metadata": {},
   "source": [
    "Generate TIFF Animation"
   ]
  },
  {
   "cell_type": "code",
   "execution_count": null,
   "id": "afea0c5f",
   "metadata": {},
   "outputs": [],
   "source": [
    "baghdad_ntl_tif_dir = DATA_PATH / 'baghdad-NTL-filled'  \n",
    "tiff_2_gif(baghdad_ntl_tif_dir, output_path=DATA_PATH, output_name=\"baghdad-NTL-animation\", fps = 8)"
   ]
  },
  {
   "cell_type": "markdown",
   "id": "7614b459",
   "metadata": {},
   "source": [
    "Aggregate to Mesh"
   ]
  },
  {
   "cell_type": "code",
   "execution_count": null,
   "id": "a7c7a322",
   "metadata": {},
   "outputs": [],
   "source": [
    "# Aggregate Ethiopia - Addis Ababa\n",
    "baghdad_ntl_tif_dir = DATA_PATH / 'baghdad-NTL-filled'  \n",
    "aggregate_data(\n",
    "    data_tiff_path=baghdad_ntl_tif_dir, \n",
    "    mesh_path=baghdad_meshes_path, \n",
    "    layer_name=lyr_baghdad_name,\n",
    "    feature_name=\"NTL_mean\"\n",
    "    )"
   ]
  },
  {
   "cell_type": "markdown",
   "metadata": {},
   "source": [
    "## 4 Cloud cover"
   ]
  },
  {
   "cell_type": "markdown",
   "metadata": {},
   "source": [
    "### Ethiopia"
   ]
  },
  {
   "cell_type": "code",
   "execution_count": 20,
   "metadata": {},
   "outputs": [],
   "source": [
    "output_path = DATA_PATH\n",
    "addis_meshes_path = DATA_PATH / 'addis-mesh-data'\n",
    "baghdad_meshes_path = DATA_PATH / 'baghdad-mesh-data'\n",
    "\n",
    "mesh_addis = DATA_PATH / \"mesh-grid\" / \"grid_addis_ababa.gpkg\"\n",
    "mesh_baghdad = DATA_PATH / \"mesh-grid\" / \"grid_baghdad.gpkg\"\n",
    "\n",
    "lyr_addis_name = fiona.listlayers(mesh_addis)[0]         # control layer number = 1 \n",
    "lyr_baghdad_name = fiona.listlayers(mesh_baghdad)[0]"
   ]
  },
  {
   "cell_type": "markdown",
   "metadata": {},
   "source": [
    "Clip"
   ]
  },
  {
   "cell_type": "code",
   "execution_count": null,
   "metadata": {},
   "outputs": [],
   "source": [
    "min_lon, max_lon = 38.65, 39.05\n",
    "min_lat, max_lat = 8.8, 9.1"
   ]
  },
  {
   "cell_type": "code",
   "execution_count": null,
   "metadata": {},
   "outputs": [],
   "source": [
    "addis_cloud_tiff = data_folder = \"../data/Cloud_AddisAbaba\" \n",
    "clip_cloud_tiff_by_bbox('addis-ababa', addis_cloud_tiff, output_path,\n",
    "                      min_lon, min_lat, max_lon, max_lat,)"
   ]
  },
  {
   "cell_type": "markdown",
   "metadata": {},
   "source": [
    "Fill missing data"
   ]
  },
  {
   "cell_type": "code",
   "execution_count": null,
   "metadata": {},
   "outputs": [],
   "source": [
    "addis_cloud_clipped = DATA_PATH / \"addis-ababa-cloud-clipped\"\n",
    "\n",
    "fill_cloud_missing_data(\n",
    "    city = 'addis-ababa',\n",
    "    data_tiff_path = addis_cloud_clipped,\n",
    "    output_path = DATA_PATH,\n",
    ")"
   ]
  },
  {
   "cell_type": "markdown",
   "metadata": {},
   "source": [
    "Animation"
   ]
  },
  {
   "cell_type": "code",
   "execution_count": null,
   "metadata": {},
   "outputs": [],
   "source": [
    "addis_cloud_tif_dir = DATA_PATH / 'addis-ababa-cloud-filled'  \n",
    "tiff_2_gif_cloud(addis_cloud_tif_dir, output_path=DATA_PATH, output_name=\"addis-ababa-cloud-animation\", fps = 8)"
   ]
  },
  {
   "cell_type": "markdown",
   "metadata": {},
   "source": [
    "Aggregation"
   ]
  },
  {
   "cell_type": "code",
   "execution_count": null,
   "metadata": {},
   "outputs": [],
   "source": [
    "addis_cloud_tif_dir = DATA_PATH / 'addis-ababa-cloud-filled'  \n",
    "\n",
    "aggregate_cloud_data(\n",
    "    data_tiff_path=addis_cloud_tif_dir, \n",
    "    mesh_path=addis_meshes_path, \n",
    "    layer_name=lyr_addis_name,\n",
    "    feature_name=\"cloud_category\"\n",
    ")"
   ]
  },
  {
   "cell_type": "markdown",
   "metadata": {},
   "source": [
    "**Visualisation**\n",
    "\n",
    "The result of aggregation in shown below, taking 01/01/2023 as an example:"
   ]
  },
  {
   "cell_type": "code",
   "execution_count": 22,
   "metadata": {},
   "outputs": [
    {
     "data": {
      "image/png": "[encoded data removed]",
      "text/plain": [
       "<Figure size 1000x1000 with 1 Axes>"
      ]
     },
     "metadata": {},
     "output_type": "display_data"
    }
   ],
   "source": [
    "addis_mesh_grid = DATA_PATH / \"addis-cloud-data/addis-ababa-2023-01-01.gpkg\"\n",
    "\n",
    "plot_cloud_category(addis_mesh_grid, title=\"Addis Ababa – Cloud Category (2023-01-01)\")"
   ]
  },
  {
   "cell_type": "markdown",
   "metadata": {},
   "source": [
    "### Baghdad"
   ]
  },
  {
   "cell_type": "markdown",
   "metadata": {},
   "source": [
    "Clip"
   ]
  },
  {
   "cell_type": "code",
   "execution_count": null,
   "metadata": {},
   "outputs": [],
   "source": [
    "min_lon, max_lon = 43.7, 45.0\n",
    "min_lat, max_lat = 32.7, 33.8"
   ]
  },
  {
   "cell_type": "code",
   "execution_count": null,
   "metadata": {},
   "outputs": [],
   "source": [
    "baghdad_cloud_tiff = \"../data/Cloud_Baghdad\" \n",
    "clip_cloud_tiff_by_bbox('baghdad', baghdad_cloud_tiff, output_path,\n",
    "                    min_lon, min_lat, max_lon, max_lat,)"
   ]
  },
  {
   "cell_type": "markdown",
   "metadata": {},
   "source": [
    "Fill missing data"
   ]
  },
  {
   "cell_type": "code",
   "execution_count": null,
   "metadata": {},
   "outputs": [],
   "source": [
    "baghdad_cloud_clipped = DATA_PATH / \"baghdad-cloud-clipped\"\n",
    "\n",
    "fill_cloud_missing_data(\n",
    "    city = 'baghdad',\n",
    "    data_tiff_path = baghdad_cloud_clipped,\n",
    "    output_path = DATA_PATH,\n",
    ")"
   ]
  },
  {
   "cell_type": "markdown",
   "metadata": {},
   "source": [
    "Animation"
   ]
  },
  {
   "cell_type": "code",
   "execution_count": null,
   "metadata": {},
   "outputs": [],
   "source": [
    "baghdad_cloud_tif_dir = DATA_PATH / 'baghdad-cloud-clipped'  \n",
    "tiff_2_gif_cloud(baghdad_cloud_tif_dir, output_path=DATA_PATH, output_name=\"baghdad-cloud-animation\", fps = 8)"
   ]
  },
  {
   "cell_type": "markdown",
   "metadata": {},
   "source": [
    "Aggregation"
   ]
  },
  {
   "cell_type": "code",
   "execution_count": null,
   "metadata": {},
   "outputs": [],
   "source": [
    "# Aggregate Iraq - Baghdad\n",
    "baghdad_cloud_tif_dir = DATA_PATH / \"baghdad-cloud-filled\"\n",
    "\n",
    "aggregate_cloud_data(\n",
    "    data_tiff_path=baghdad_cloud_tif_dir, \n",
    "    mesh_path=baghdad_meshes_path, \n",
    "    layer_name=lyr_baghdad_name,\n",
    "    feature_name=\"cloud_category\"\n",
    ")"
   ]
  },
  {
   "cell_type": "markdown",
   "metadata": {},
   "source": [
    "**Visualisation**\n",
    "\n",
    "The result of aggregation in shown below, taking 2023-01-01 as an example:"
   ]
  },
  {
   "cell_type": "code",
   "execution_count": 24,
   "metadata": {},
   "outputs": [
    {
     "data": {
      "image/png": "[encoded data removed]",
      "text/plain": [
       "<Figure size 1000x1000 with 1 Axes>"
      ]
     },
     "metadata": {},
     "output_type": "display_data"
    }
   ],
   "source": [
    "baghdad_mesh_grid = DATA_PATH / \"baghdad-cloud-data/baghdad-2023-01-01.gpkg\"\n",
    "plot_cloud_category(baghdad_mesh_grid,title=\"Baghdad – Cloud Category (2023-01-01)\")"
   ]
  },
  {
   "cell_type": "markdown",
   "metadata": {},
   "source": [
    "## 5 Surface temperature"
   ]
  },
  {
   "cell_type": "code",
   "execution_count": null,
   "metadata": {},
   "outputs": [],
   "source": [
    "import rasterio\n",
    "from aggregation import*\n",
    "\n",
    "output_path = DATA_PATH\n",
    "addis_meshes_path = DATA_PATH / 'addis-mesh-data'\n",
    "baghdad_meshes_path = DATA_PATH / 'baghdad-mesh-data'\n",
    "\n",
    "mesh_addis = DATA_PATH / \"mesh-grid\" / \"grid_addis_ababa.gpkg\"\n",
    "mesh_baghdad = DATA_PATH / \"mesh-grid\" / \"grid_baghdad.gpkg\"\n",
    "\n",
    "lyr_addis_name = fiona.listlayers(mesh_addis)[0]         # control layer number = 1 \n",
    "lyr_baghdad_name = fiona.listlayers(mesh_baghdad)[0]"
   ]
  },
  {
   "cell_type": "markdown",
   "metadata": {},
   "source": [
    "#### Iraq - Baghdad"
   ]
  },
  {
   "cell_type": "markdown",
   "metadata": {},
   "source": [
    "Clip"
   ]
  },
  {
   "cell_type": "code",
   "execution_count": null,
   "metadata": {},
   "outputs": [],
   "source": [
    "min_lon, max_lon = 43.7, 45.0\n",
    "min_lat, max_lat = 32.7, 33.8\n",
    "\n",
    "baghdad_temp_tiff = DATA_PATH / \"Surface-temperature-baghdad\"\n",
    "clip_tiff_temp_by_bbox('baghdad', baghdad_temp_tiff, output_path,\n",
    "                      min_lon, min_lat, max_lon, max_lat,)"
   ]
  },
  {
   "cell_type": "markdown",
   "metadata": {},
   "source": [
    "Fill"
   ]
  },
  {
   "cell_type": "code",
   "execution_count": null,
   "metadata": {},
   "outputs": [],
   "source": [
    "baghdad_temp_clipped = DATA_PATH / \"baghdad-temp-clipped\"\n",
    "\n",
    "fill_temp_missing_data(\n",
    "    city = 'baghdad',\n",
    "    data_tiff_path = baghdad_temp_clipped,\n",
    "    output_path = DATA_PATH,\n",
    ")"
   ]
  },
  {
   "cell_type": "markdown",
   "metadata": {},
   "source": [
    "Aggregate"
   ]
  },
  {
   "cell_type": "code",
   "execution_count": null,
   "metadata": {},
   "outputs": [],
   "source": [
    "# Aggregate Iraq - Baghdad\n",
    "baghdad_temp_tif_dir = DATA_PATH / 'baghdad-temp-filled'  \n",
    "aggregate_data(\n",
    "    data_tiff_path=baghdad_temp_tif_dir, \n",
    "    mesh_path=baghdad_meshes_path, \n",
    "    layer_name=lyr_baghdad_name,\n",
    "    feature_name=\"temp_mean\"\n",
    "    )"
   ]
  },
  {
   "cell_type": "markdown",
   "metadata": {},
   "source": [
    "Animation:"
   ]
  },
  {
   "cell_type": "markdown",
   "metadata": {},
   "source": [
    "Before filling"
   ]
  },
  {
   "cell_type": "code",
   "execution_count": null,
   "metadata": {},
   "outputs": [],
   "source": [
    "# Use the existing pathlib.WindowsPath variable for the directory\n",
    "baghdad_temp_tif_dir_clip = DATA_PATH / 'baghdad-temp-clipped'   \n",
    "tiff_2_gif(baghdad_temp_tif_dir_clip, output_path=DATA_PATH, output_name=\"baghdad-temp-animation\", fps=8)"
   ]
  },
  {
   "cell_type": "markdown",
   "metadata": {},
   "source": [
    "After data filling"
   ]
  },
  {
   "cell_type": "code",
   "execution_count": null,
   "metadata": {},
   "outputs": [],
   "source": [
    "# Use the existing pathlib.WindowsPath variable for the directory\n",
    "baghdad_temp_tif_dir = DATA_PATH / 'baghdad-temp-filled'   \n",
    "tiff_2_gif(baghdad_temp_tif_dir, output_path=DATA_PATH, output_name=\"baghdad-temp-animation\", fps=8)"
   ]
  },
  {
   "cell_type": "markdown",
   "metadata": {},
   "source": [
    "Visualisation"
   ]
  },
  {
   "cell_type": "code",
   "execution_count": null,
   "metadata": {},
   "outputs": [],
   "source": [
    "import matplotlib.pyplot as plt\n",
    "\n",
    "fig, axes = plt.subplots(1, 2, figsize=(12, 4))\n",
    "# plot original image\n",
    "src, band, profile, nodata_value = read_tiff(DEMO_PATH / 'baghdad-temp-clipped/ MODIS_LST_Day_2023_01_01.tif')\n",
    "plot_raster(band, percent_clip=0.5, ax=axes[0], title=\"Original Satellite Image\")\n",
    "\n",
    "# filled image\n",
    "src, band_filled, profile, nodata_value = read_tiff(DEMO_PATH / 'baghdad-temp-filled/ baghdad_temp_2023-01-01_filled.tif')\n",
    "plot_raster(band_filled, percent_clip=0.5, ax=axes[1], title=\"Filled Values Satellite Image\")\n",
    "\n",
    "plt.show()"
   ]
  }
 ],
 "metadata": {
  "kernelspec": {
   "display_name": "base",
   "language": "python",
   "name": "python3"
  },
  "language_info": {
   "codemirror_mode": {
    "name": "ipython",
    "version": 3
   },
   "file_extension": ".py",
   "mimetype": "text/x-python",
   "name": "python",
   "nbconvert_exporter": "python",
   "pygments_lexer": "ipython3",
   "version": "3.12.2"
  }
 },
 "nbformat": 4,
 "nbformat_minor": 2
}
